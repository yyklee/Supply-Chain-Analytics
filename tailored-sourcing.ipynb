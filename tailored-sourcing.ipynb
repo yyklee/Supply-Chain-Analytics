{
 "cells": [
  {
   "cell_type": "code",
   "execution_count": 82,
   "metadata": {},
   "outputs": [
    {
     "data": {
      "text/plain": [
       "3073.9153138822376"
      ]
     },
     "execution_count": 82,
     "metadata": {},
     "output_type": "execute_result"
    }
   ],
   "source": [
    "## Question 1\n",
    "from math import sqrt\n",
    "\n",
    "# Data for each product: Demand (D), Common Ordering Cost (C), Specific Ordering Cost (S), Unit Cost (P), Holding Cost Rate (H)\n",
    "products = [\n",
    "    {'D': 1000, 'C': 100, 'S': 10, 'P': 50, 'H': 0.2},\n",
    "    {'D': 300, 'C': 100, 'S': 20, 'P': 60, 'H': 0.2},\n",
    "    {'D': 100, 'C': 100, 'S': 25, 'P': 30, 'H': 0.2},\n",
    "    {'D': 50, 'C': 100, 'S': 25, 'P': 30, 'H': 0.2}\n",
    "]\n",
    "\n",
    "# Independent Sourcing Strategy\n",
    "def independent_sourcing_cost(products):\n",
    "    total_cost = 0\n",
    "    for product in products:\n",
    "        S = product['C'] + product['S']  # Total Ordering Cost\n",
    "        H = product['H'] * product['P']  # Holding Cost per unit per year\n",
    "        Q = sqrt((2 * product['D'] * S) / H)  # EOQ\n",
    "        ordering_cost = product['D'] * S / Q \n",
    "        holding_cost = H * Q / 2\n",
    "        total_cost += ordering_cost + holding_cost\n",
    "    return total_cost\n",
    "\n",
    "# Calculate each cost\n",
    "independent_cost = independent_sourcing_cost(products)\n",
    "independent_cost"
   ]
  },
  {
   "cell_type": "code",
   "execution_count": 83,
   "metadata": {},
   "outputs": [
    {
     "data": {
      "text/plain": [
       "2284.7319317591728"
      ]
     },
     "execution_count": 83,
     "metadata": {},
     "output_type": "execute_result"
    }
   ],
   "source": [
    "## Question 2\n",
    "\n",
    "def joint_sourcing_cost(products):\n",
    "    # Assuming C is the common fixed cost and should only be counted once\n",
    "    C_common = products[0]['C']  # Assuming all products have the same common fixed cost\n",
    "    S_total = C_common + sum(product['S'] for product in products)  # Fixed + variable costs\n",
    "    \n",
    "    # Calculate the inner part of the order frequency formula\n",
    "    inner = sum(product['D'] * product['H'] * product['P'] for product in products) / (2 * S_total)\n",
    "    \n",
    "    # Calculate the joint order frequency\n",
    "    n = sqrt(inner)\n",
    "    \n",
    "    # Calculate total ordering cost based on the joint order frequency\n",
    "    total_ordering_cost = n * S_total\n",
    "    \n",
    "    # Calculate total holding cost for all products\n",
    "    total_holding_cost = 0\n",
    "    for product in products:\n",
    "        Q = product['D'] / n  # Order quantity for each product\n",
    "        holding_cost = Q * product['H'] * product['P'] / 2  # Holding cost for each product\n",
    "        total_holding_cost += holding_cost\n",
    "\n",
    "    # Return the sum of total ordering and holding costs\n",
    "    return total_ordering_cost + total_holding_cost\n",
    "joint_cost = joint_sourcing_cost(products)\n",
    "joint_cost"
   ]
  },
  {
   "cell_type": "code",
   "execution_count": 115,
   "metadata": {},
   "outputs": [
    {
     "name": "stderr",
     "output_type": "stream",
     "text": [
      "C:\\Users\\Younkyung Lee\\AppData\\Local\\Temp\\ipykernel_29192\\2701420217.py:15: SettingWithCopyWarning: \n",
      "A value is trying to be set on a copy of a slice from a DataFrame.\n",
      "Try using .loc[row_indexer,col_indexer] = value instead\n",
      "\n",
      "See the caveats in the documentation: https://pandas.pydata.org/pandas-docs/stable/user_guide/indexing.html#returning-a-view-versus-a-copy\n",
      "  products_ex['Q'] = (2 * products_ex['D'] * products_ex['S'] / (products_ex['H'] * products_ex['P'])) ** 0.5\n",
      "C:\\Users\\Younkyung Lee\\AppData\\Local\\Temp\\ipykernel_29192\\2701420217.py:16: SettingWithCopyWarning: \n",
      "A value is trying to be set on a copy of a slice from a DataFrame.\n",
      "Try using .loc[row_indexer,col_indexer] = value instead\n",
      "\n",
      "See the caveats in the documentation: https://pandas.pydata.org/pandas-docs/stable/user_guide/indexing.html#returning-a-view-versus-a-copy\n",
      "  products_ex['freq'] = (products_ex['D']/products_ex['Q'])\n",
      "C:\\Users\\Younkyung Lee\\AppData\\Local\\Temp\\ipykernel_29192\\2701420217.py:17: SettingWithCopyWarning: \n",
      "A value is trying to be set on a copy of a slice from a DataFrame.\n",
      "Try using .loc[row_indexer,col_indexer] = value instead\n",
      "\n",
      "See the caveats in the documentation: https://pandas.pydata.org/pandas-docs/stable/user_guide/indexing.html#returning-a-view-versus-a-copy\n",
      "  products_ex['m_i'] = round(freq_freq / products_ex['freq'], 0)\n"
     ]
    },
    {
     "data": {
      "text/html": [
       "<div>\n",
       "<style scoped>\n",
       "    .dataframe tbody tr th:only-of-type {\n",
       "        vertical-align: middle;\n",
       "    }\n",
       "\n",
       "    .dataframe tbody tr th {\n",
       "        vertical-align: top;\n",
       "    }\n",
       "\n",
       "    .dataframe thead th {\n",
       "        text-align: right;\n",
       "    }\n",
       "</style>\n",
       "<table border=\"1\" class=\"dataframe\">\n",
       "  <thead>\n",
       "    <tr style=\"text-align: right;\">\n",
       "      <th></th>\n",
       "      <th>D</th>\n",
       "      <th>C</th>\n",
       "      <th>S</th>\n",
       "      <th>P</th>\n",
       "      <th>H</th>\n",
       "      <th>freq</th>\n",
       "      <th>m_i</th>\n",
       "    </tr>\n",
       "  </thead>\n",
       "  <tbody>\n",
       "    <tr>\n",
       "      <th>0</th>\n",
       "      <td>1000</td>\n",
       "      <td>100</td>\n",
       "      <td>10</td>\n",
       "      <td>50</td>\n",
       "      <td>0.2</td>\n",
       "      <td>6.741999</td>\n",
       "      <td>1.0</td>\n",
       "    </tr>\n",
       "    <tr>\n",
       "      <th>1</th>\n",
       "      <td>300</td>\n",
       "      <td>100</td>\n",
       "      <td>20</td>\n",
       "      <td>60</td>\n",
       "      <td>0.2</td>\n",
       "      <td>9.486833</td>\n",
       "      <td>1.0</td>\n",
       "    </tr>\n",
       "    <tr>\n",
       "      <th>2</th>\n",
       "      <td>100</td>\n",
       "      <td>100</td>\n",
       "      <td>25</td>\n",
       "      <td>30</td>\n",
       "      <td>0.2</td>\n",
       "      <td>3.464102</td>\n",
       "      <td>2.0</td>\n",
       "    </tr>\n",
       "    <tr>\n",
       "      <th>3</th>\n",
       "      <td>50</td>\n",
       "      <td>100</td>\n",
       "      <td>25</td>\n",
       "      <td>30</td>\n",
       "      <td>0.2</td>\n",
       "      <td>2.449490</td>\n",
       "      <td>3.0</td>\n",
       "    </tr>\n",
       "  </tbody>\n",
       "</table>\n",
       "</div>"
      ],
      "text/plain": [
       "      D    C   S   P    H      freq  m_i\n",
       "0  1000  100  10  50  0.2  6.741999  1.0\n",
       "1   300  100  20  60  0.2  9.486833  1.0\n",
       "2   100  100  25  30  0.2  3.464102  2.0\n",
       "3    50  100  25  30  0.2  2.449490  3.0"
      ]
     },
     "execution_count": 115,
     "metadata": {},
     "output_type": "execute_result"
    }
   ],
   "source": [
    "## Question 3\n",
    "import pandas as pd\n",
    "products = pd.DataFrame(products)\n",
    "\n",
    "# Most Frequent Product \n",
    "freq_product = products.iloc[0] # based on Q1\n",
    "S_freq = freq_product['C'] + freq_product['S'] \n",
    "H_freq = freq_product['H'] * freq_product['P']\n",
    "EOQ_freq = sqrt((2 * freq_product['D'] * S_freq) / H_freq)\n",
    "freq_freq = freq_product['D'] / EOQ_freq \n",
    "products.loc[0, 'freq'] = freq_freq\n",
    "products.loc[0, 'm_i'] = 1\n",
    "\n",
    "products_ex = products.iloc[1:]\n",
    "products_ex['Q'] = (2 * products_ex['D'] * products_ex['S'] / (products_ex['H'] * products_ex['P'])) ** 0.5\n",
    "products_ex['freq'] = (products_ex['D']/products_ex['Q'])\n",
    "products_ex['m_i'] = round(freq_freq / products_ex['freq'], 0)\n",
    "products.iloc[1:] = products_ex\n",
    "products"
   ]
  },
  {
   "cell_type": "code",
   "execution_count": 116,
   "metadata": {},
   "outputs": [
    {
     "data": {
      "text/plain": [
       "2176.2735734890193"
      ]
     },
     "execution_count": 116,
     "metadata": {},
     "output_type": "execute_result"
    }
   ],
   "source": [
    "# Recalculate the ordering frequency 'n' of the most frequently ordered product\n",
    "h = products['H']\n",
    "C = products['P']\n",
    "D = products['D']\n",
    "m = products['m_i']\n",
    "S = 100\n",
    "s = products['S']\n",
    "\n",
    "n_updated = ((h * C * D * m).sum() / (2 * (S + (s/m).sum())))**(1/2)\n",
    "\n",
    "# new frequency\n",
    "products.loc[0, 'nfreq'] = n_updated\n",
    "products.loc[1:3, 'nfreq'] = n_updated / products['m_i']\n",
    "\n",
    "# new Q\n",
    "products['nQ'] = products['D']/products['nfreq']\n",
    "\n",
    "# Calculate the total cost\n",
    "holding_cost = (products['nQ']*products['H']*products['P']/2).sum()\n",
    "ordering_cost = (products['D'] *products['S']/products['nQ']).sum()\n",
    "\n",
    "holding_cost + ordering_cost + products['nfreq'].max()*100"
   ]
  }
 ],
 "metadata": {
  "kernelspec": {
   "display_name": "Python 3",
   "language": "python",
   "name": "python3"
  },
  "language_info": {
   "codemirror_mode": {
    "name": "ipython",
    "version": 3
   },
   "file_extension": ".py",
   "mimetype": "text/x-python",
   "name": "python",
   "nbconvert_exporter": "python",
   "pygments_lexer": "ipython3",
   "version": "3.12.0"
  }
 },
 "nbformat": 4,
 "nbformat_minor": 2
}
